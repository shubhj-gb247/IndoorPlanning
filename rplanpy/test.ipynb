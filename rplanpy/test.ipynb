{
 "cells": [
  {
   "cell_type": "code",
   "execution_count": 1,
   "metadata": {},
   "outputs": [],
   "source": [
    "import os \n",
    "import glob\n",
    "import numpy as np\n",
    "import rplanpy\n",
    "import matplotlib.pyplot as plt\n",
    "from matplotlib.patches import Rectangle"
   ]
  },
  {
   "cell_type": "code",
   "execution_count": null,
   "metadata": {},
   "outputs": [],
   "source": [
    "image_dir = '../dataset/floorplan_dataset_temp'\n",
    "#dataset/floorplan_dataset_temp\n",
    "image_files = glob.glob(os.path.join(image_dir,'*.png'))\n",
    "image_files"
   ]
  },
  {
   "cell_type": "code",
   "execution_count": 13,
   "metadata": {},
   "outputs": [],
   "source": [
    "#function to extract site bounding box from image channel , and visualize it.\n",
    "\n",
    "\n",
    "# row y , col x axis\n",
    "def extract_site_bounding_box(data):\n",
    "\n",
    "    plt.imshow(data.image,origin='lower')\n",
    "    ax = plt.gca()\n",
    "\n",
    "\n",
    "    G = data.get_graph()\n",
    "\n",
    "    min_row,min_col,max_row,max_col = G.graph['site_bounding_box']\n",
    "\n",
    "    rect = Rectangle((min_col ,min_row),max_col-min_col , max_row-min_row,linewidth=2,edgecolor='r',facecolor='none')\n",
    "\n",
    "    ax.add_patch(rect)\n",
    "\n",
    "    edgecolor = ['r','b','g','y','r','g']\n",
    "\n",
    "    \n",
    "    for node in G.nodes:\n",
    "        min_row,min_col,max_row,max_col = G.nodes[node]['bounding_box'];\n",
    "        print(f\"room bounding box: {min_row} {min_col} {max_row} {max_col}\")\n",
    "        # rect = Rectangle((min_col, min_row), max_col-min_col, max_row-min_row,linewidth=3, edgecolor=edgecolor[node])\n",
    "        # ax.add_patch(rect)\n",
    "\n",
    "    plt.show()"
   ]
  },
  {
   "cell_type": "code",
   "execution_count": null,
   "metadata": {},
   "outputs": [],
   "source": [
    "data = rplanpy.data.RplanData(image_files[17])\n",
    "data.set_graph()\n",
    "data.get_graph()\n",
    "print(image_files[17])\n",
    "extract_site_bounding_box(data)"
   ]
  },
  {
   "cell_type": "code",
   "execution_count": null,
   "metadata": {},
   "outputs": [],
   "source": [
    "import h5py as h5\n",
    "import glob as glob\n",
    "import os\n",
    "image_dir = './preprocess_data_temp'\n",
    "image_paths = glob.glob(os.path.join(image_dir, '*.h5'))  # Adjust the pattern as needed\n",
    "print(image_paths)\n",
    "datasets = []\n",
    "indices = []\n",
    "cummulative_samples = 0\n",
    "\n",
    "for file_idx , file in enumerate(image_paths):\n",
    "    file = h5.File(file,'r')\n",
    "    num_samples = file['site_dim'].shape[0]\n",
    "    print(f\"num_samples: {num_samples}\")\n",
    "    datasets.append(file)\n",
    "    indices.extend([(file_idx,i) for i in range(num_samples)])\n",
    "\n",
    "print(f\"{type(indices)} \\n {indices} \")\n",
    "print(f\"{datasets}\\n\")\n"
   ]
  },
  {
   "cell_type": "code",
   "execution_count": 4,
   "metadata": {},
   "outputs": [
    {
     "name": "stdout",
     "output_type": "stream",
     "text": [
      "<HDF5 file \"batch_2.h5\" (mode r)> 1 0\n",
      "0 12\n",
      "12 12\n",
      "1   2\n",
      "\n",
      "\n",
      "1   7\n",
      "\n",
      "\n",
      "2   3\n",
      "\n",
      "\n",
      "2   4\n",
      "\n",
      "\n",
      "2   7\n",
      "\n",
      "\n",
      "3   4\n",
      "\n",
      "\n",
      "3   7\n",
      "\n",
      "\n",
      "3   8\n",
      "\n",
      "\n",
      "5   6\n",
      "\n",
      "\n",
      "5   7\n",
      "\n",
      "\n",
      "6   7\n",
      "\n",
      "\n",
      "7   8\n",
      "\n",
      "\n",
      "[2 3 2 1 3 6 3 0 7 4 4 1]\n",
      "[ True  True  True False  True  True  True  True  True  True  True  True]\n"
     ]
    }
   ],
   "source": [
    "idx = 10\n",
    "file_idx , image_idx = indices[idx]\n",
    "file = datasets[file_idx]\n",
    "print(file,file_idx,image_idx)\n",
    "edge_start = file['edge_offsets'][image_idx]\n",
    "edge_end = file['edge_offsets'][image_idx+1]\n",
    "edge_src = file['edges_src'][edge_start:edge_end]\n",
    "edge_tgt = file['edges_tgt'][edge_start:edge_end]\n",
    "edge_loc = file['edges_location'][edge_start:edge_end]\n",
    "edge_door = file['edges_door'][edge_start:edge_end]\n",
    "print(edge_start, edge_end)\n",
    "print(len(edge_src),len(edge_tgt))\n",
    "for i in range(len(edge_src)) :\n",
    "    print(f\"{edge_src[i]+1}   {edge_tgt[i]+1}\\n\\n\")\n",
    "print(edge_loc)\n",
    "print(edge_door)\n"
   ]
  },
  {
   "cell_type": "code",
   "execution_count": null,
   "metadata": {},
   "outputs": [],
   "source": [
    "room_category_len = file['room_category_lens'][image_idx]\n",
    "room_category_padded = file['room_category'][image_idx]\n",
    "room_category = room_category_padded[:room_category_len]\n",
    "print(room_category)"
   ]
  },
  {
   "cell_type": "code",
   "execution_count": null,
   "metadata": {},
   "outputs": [],
   "source": []
  }
 ],
 "metadata": {
  "kernelspec": {
   "display_name": "base",
   "language": "python",
   "name": "python3"
  },
  "language_info": {
   "codemirror_mode": {
    "name": "ipython",
    "version": 3
   },
   "file_extension": ".py",
   "mimetype": "text/x-python",
   "name": "python",
   "nbconvert_exporter": "python",
   "pygments_lexer": "ipython3",
   "version": "3.12.4"
  }
 },
 "nbformat": 4,
 "nbformat_minor": 2
}
