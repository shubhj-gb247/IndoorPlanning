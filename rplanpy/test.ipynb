{
 "cells": [
  {
   "cell_type": "code",
   "execution_count": 3,
   "metadata": {},
   "outputs": [],
   "source": [
    "import os \n",
    "import glob\n",
    "import numpy as np\n",
    "import rplanpy\n",
    "import matplotlib.pyplot as plt\n",
    "from matplotlib.patches import Rectangle"
   ]
  },
  {
   "cell_type": "code",
   "execution_count": 4,
   "metadata": {},
   "outputs": [
    {
     "data": {
      "text/plain": [
       "['../dataset/floorplan_dataset_temp/1.png',\n",
       " '../dataset/floorplan_dataset_temp/12.png',\n",
       " '../dataset/floorplan_dataset_temp/18.png',\n",
       " '../dataset/floorplan_dataset_temp/7.png',\n",
       " '../dataset/floorplan_dataset_temp/10.png',\n",
       " '../dataset/floorplan_dataset_temp/3.png',\n",
       " '../dataset/floorplan_dataset_temp/9.png',\n",
       " '../dataset/floorplan_dataset_temp/19.png',\n",
       " '../dataset/floorplan_dataset_temp/8.png',\n",
       " '../dataset/floorplan_dataset_temp/17.png',\n",
       " '../dataset/floorplan_dataset_temp/6.png',\n",
       " '../dataset/floorplan_dataset_temp/11.png',\n",
       " '../dataset/floorplan_dataset_temp/15.png',\n",
       " '../dataset/floorplan_dataset_temp/14.png',\n",
       " '../dataset/floorplan_dataset_temp/4.png',\n",
       " '../dataset/floorplan_dataset_temp/2.png',\n",
       " '../dataset/floorplan_dataset_temp/5.png',\n",
       " '../dataset/floorplan_dataset_temp/0.png',\n",
       " '../dataset/floorplan_dataset_temp/13.png',\n",
       " '../dataset/floorplan_dataset_temp/16.png',\n",
       " '../dataset/floorplan_dataset_temp/20.png']"
      ]
     },
     "execution_count": 4,
     "metadata": {},
     "output_type": "execute_result"
    }
   ],
   "source": [
    "image_dir = '../dataset/floorplan_dataset_temp'\n",
    "#dataset/floorplan_dataset_temp\n",
    "image_files = glob.glob(os.path.join(image_dir,'*.png'))\n",
    "image_files"
   ]
  },
  {
   "cell_type": "code",
   "execution_count": 13,
   "metadata": {},
   "outputs": [],
   "source": [
    "#function to extract site bounding box from image channel , and visualize it.\n",
    "\n",
    "\n",
    "# row y , col x axis\n",
    "def extract_site_bounding_box(data):\n",
    "\n",
    "    plt.imshow(data.image,origin='lower')\n",
    "    ax = plt.gca()\n",
    "\n",
    "\n",
    "    G = data.get_graph()\n",
    "\n",
    "    min_row,min_col,max_row,max_col = G.graph['site_bounding_box']\n",
    "\n",
    "    rect = Rectangle((min_col ,min_row),max_col-min_col , max_row-min_row,linewidth=2,edgecolor='r',facecolor='none')\n",
    "\n",
    "    ax.add_patch(rect)\n",
    "\n",
    "    edgecolor = ['r','b','g','y','r','g']\n",
    "\n",
    "    \n",
    "    for node in G.nodes:\n",
    "        min_row,min_col,max_row,max_col = G.nodes[node]['bounding_box'];\n",
    "        print(f\"room bounding box: {min_row} {min_col} {max_row} {max_col}\")\n",
    "        # rect = Rectangle((min_col, min_row), max_col-min_col, max_row-min_row,linewidth=3, edgecolor=edgecolor[node])\n",
    "        # ax.add_patch(rect)\n",
    "\n",
    "    plt.show()"
   ]
  },
  {
   "cell_type": "code",
   "execution_count": 14,
   "metadata": {},
   "outputs": [
    {
     "name": "stdout",
     "output_type": "stream",
     "text": [
      "Site bounding box: 25 69 231 187\n",
      "../dataset/floorplan_dataset_temp/0.png\n",
      "room bounding box: 161 72 221 125\n",
      "room bounding box: 130 72 158 108\n",
      "room bounding box: 28 111 204 185\n",
      "room bounding box: 87 72 127 125\n",
      "room bounding box: 53 115 84 145\n",
      "room bounding box: 207 128 229 185\n"
     ]
    },
    {
     "ename": "IndexError",
     "evalue": "list index out of range",
     "output_type": "error",
     "traceback": [
      "\u001b[0;31m---------------------------------------------------------------------------\u001b[0m",
      "\u001b[0;31mIndexError\u001b[0m                                Traceback (most recent call last)",
      "Cell \u001b[0;32mIn[14], line 5\u001b[0m\n\u001b[1;32m      3\u001b[0m data\u001b[38;5;241m.\u001b[39mget_graph()\n\u001b[1;32m      4\u001b[0m \u001b[38;5;28mprint\u001b[39m(image_files[\u001b[38;5;241m17\u001b[39m])\n\u001b[0;32m----> 5\u001b[0m extract_site_bounding_box(data)\n",
      "Cell \u001b[0;32mIn[13], line 25\u001b[0m, in \u001b[0;36mextract_site_bounding_box\u001b[0;34m(data)\u001b[0m\n\u001b[1;32m     23\u001b[0m     min_row,min_col,max_row,max_col \u001b[38;5;241m=\u001b[39m G\u001b[38;5;241m.\u001b[39mnodes[node][\u001b[38;5;124m'\u001b[39m\u001b[38;5;124mbounding_box\u001b[39m\u001b[38;5;124m'\u001b[39m];\n\u001b[1;32m     24\u001b[0m     \u001b[38;5;28mprint\u001b[39m(\u001b[38;5;124mf\u001b[39m\u001b[38;5;124m\"\u001b[39m\u001b[38;5;124mroom bounding box: \u001b[39m\u001b[38;5;132;01m{\u001b[39;00mmin_row\u001b[38;5;132;01m}\u001b[39;00m\u001b[38;5;124m \u001b[39m\u001b[38;5;132;01m{\u001b[39;00mmin_col\u001b[38;5;132;01m}\u001b[39;00m\u001b[38;5;124m \u001b[39m\u001b[38;5;132;01m{\u001b[39;00mmax_row\u001b[38;5;132;01m}\u001b[39;00m\u001b[38;5;124m \u001b[39m\u001b[38;5;132;01m{\u001b[39;00mmax_col\u001b[38;5;132;01m}\u001b[39;00m\u001b[38;5;124m\"\u001b[39m)\n\u001b[0;32m---> 25\u001b[0m     rect \u001b[38;5;241m=\u001b[39m Rectangle((min_col, min_row), max_col\u001b[38;5;241m-\u001b[39mmin_col, max_row\u001b[38;5;241m-\u001b[39mmin_row,linewidth\u001b[38;5;241m=\u001b[39m\u001b[38;5;241m3\u001b[39m, edgecolor\u001b[38;5;241m=\u001b[39medgecolor[node])\n\u001b[1;32m     26\u001b[0m     ax\u001b[38;5;241m.\u001b[39madd_patch(rect)\n\u001b[1;32m     28\u001b[0m plt\u001b[38;5;241m.\u001b[39mshow()\n",
      "\u001b[0;31mIndexError\u001b[0m: list index out of range"
     ]
    },
    {
     "data": {
      "image/png": "[encoded data removed]",
      "text/plain": [
       "<Figure size 640x480 with 1 Axes>"
      ]
     },
     "metadata": {},
     "output_type": "display_data"
    }
   ],
   "source": [
    "data = rplanpy.data.RplanData(image_files[17])\n",
    "data.set_graph()\n",
    "data.get_graph()\n",
    "print(image_files[17])\n",
    "extract_site_bounding_box(data)"
   ]
  },
  {
   "cell_type": "code",
   "execution_count": 1,
   "metadata": {},
   "outputs": [
    {
     "data": {
      "text/plain": [
       "<KeysViewHDF5 ['edge_offsets', 'edges_door', 'edges_location', 'edges_src', 'edges_tgt', 'room_area_lens', 'room_area_norm', 'room_bb_norm', 'room_bb_norm_lens', 'room_category', 'room_category_lens', 'site_dim']>"
      ]
     },
     "execution_count": 1,
     "metadata": {},
     "output_type": "execute_result"
    }
   ],
   "source": [
    "import h5py as h5\n",
    "\n",
    "indices = []\n",
    "cummulative_samples = 0\n",
    "path = './preprocess_data/batch_0.h5'\n",
    "file = h5.File(path,'r')\n",
    "# print(file['room_category'][:])\n",
    "# print(file['room_category_lens'][:])\n",
    "file.keys()"
   ]
  },
  {
   "cell_type": "code",
   "execution_count": 2,
   "metadata": {},
   "outputs": [
    {
     "ename": "KeyError",
     "evalue": "\"Unable to open object (object 'room_area_norm_lens' doesn't exist)\"",
     "output_type": "error",
     "traceback": [
      "\u001b[0;31m---------------------------------------------------------------------------\u001b[0m",
      "\u001b[0;31mKeyError\u001b[0m                                  Traceback (most recent call last)",
      "Cell \u001b[0;32mIn[2], line 1\u001b[0m\n\u001b[0;32m----> 1\u001b[0m room_area_len \u001b[38;5;241m=\u001b[39m file[\u001b[38;5;124m'\u001b[39m\u001b[38;5;124mroom_area_norm_lens\u001b[39m\u001b[38;5;124m'\u001b[39m][\u001b[38;5;241m0\u001b[39m]\n\u001b[1;32m      2\u001b[0m room_area_padded \u001b[38;5;241m=\u001b[39m file[\u001b[38;5;124m'\u001b[39m\u001b[38;5;124mroom_area_norm\u001b[39m\u001b[38;5;124m'\u001b[39m][\u001b[38;5;241m0\u001b[39m]\n\u001b[1;32m      3\u001b[0m room_area_norm \u001b[38;5;241m=\u001b[39m room_area_padded[:room_area_len]\n",
      "File \u001b[0;32mh5py/_objects.pyx:54\u001b[0m, in \u001b[0;36mh5py._objects.with_phil.wrapper\u001b[0;34m()\u001b[0m\n",
      "File \u001b[0;32mh5py/_objects.pyx:55\u001b[0m, in \u001b[0;36mh5py._objects.with_phil.wrapper\u001b[0;34m()\u001b[0m\n",
      "File \u001b[0;32m~/anaconda3/lib/python3.12/site-packages/h5py/_hl/group.py:357\u001b[0m, in \u001b[0;36mGroup.__getitem__\u001b[0;34m(self, name)\u001b[0m\n\u001b[1;32m    355\u001b[0m         \u001b[38;5;28;01mraise\u001b[39;00m \u001b[38;5;167;01mValueError\u001b[39;00m(\u001b[38;5;124m\"\u001b[39m\u001b[38;5;124mInvalid HDF5 object reference\u001b[39m\u001b[38;5;124m\"\u001b[39m)\n\u001b[1;32m    356\u001b[0m \u001b[38;5;28;01melif\u001b[39;00m \u001b[38;5;28misinstance\u001b[39m(name, (\u001b[38;5;28mbytes\u001b[39m, \u001b[38;5;28mstr\u001b[39m)):\n\u001b[0;32m--> 357\u001b[0m     oid \u001b[38;5;241m=\u001b[39m h5o\u001b[38;5;241m.\u001b[39mopen(\u001b[38;5;28mself\u001b[39m\u001b[38;5;241m.\u001b[39mid, \u001b[38;5;28mself\u001b[39m\u001b[38;5;241m.\u001b[39m_e(name), lapl\u001b[38;5;241m=\u001b[39m\u001b[38;5;28mself\u001b[39m\u001b[38;5;241m.\u001b[39m_lapl)\n\u001b[1;32m    358\u001b[0m \u001b[38;5;28;01melse\u001b[39;00m:\n\u001b[1;32m    359\u001b[0m     \u001b[38;5;28;01mraise\u001b[39;00m \u001b[38;5;167;01mTypeError\u001b[39;00m(\u001b[38;5;124m\"\u001b[39m\u001b[38;5;124mAccessing a group is done with bytes or str, \u001b[39m\u001b[38;5;124m\"\u001b[39m\n\u001b[1;32m    360\u001b[0m                     \u001b[38;5;124m\"\u001b[39m\u001b[38;5;124mnot \u001b[39m\u001b[38;5;132;01m{}\u001b[39;00m\u001b[38;5;124m\"\u001b[39m\u001b[38;5;241m.\u001b[39mformat(\u001b[38;5;28mtype\u001b[39m(name)))\n",
      "File \u001b[0;32mh5py/_objects.pyx:54\u001b[0m, in \u001b[0;36mh5py._objects.with_phil.wrapper\u001b[0;34m()\u001b[0m\n",
      "File \u001b[0;32mh5py/_objects.pyx:55\u001b[0m, in \u001b[0;36mh5py._objects.with_phil.wrapper\u001b[0;34m()\u001b[0m\n",
      "File \u001b[0;32mh5py/h5o.pyx:241\u001b[0m, in \u001b[0;36mh5py.h5o.open\u001b[0;34m()\u001b[0m\n",
      "\u001b[0;31mKeyError\u001b[0m: \"Unable to open object (object 'room_area_norm_lens' doesn't exist)\""
     ]
    }
   ],
   "source": [
    "room_area_len = file['room_area_lens'][0]\n",
    "room_area_padded = file['room_area_norm'][0]\n",
    "room_area_norm = room_area_padded[:room_area_len]"
   ]
  },
  {
   "cell_type": "code",
   "execution_count": null,
   "metadata": {},
   "outputs": [],
   "source": []
  }
 ],
 "metadata": {
  "kernelspec": {
   "display_name": "base",
   "language": "python",
   "name": "python3"
  },
  "language_info": {
   "codemirror_mode": {
    "name": "ipython",
    "version": 3
   },
   "file_extension": ".py",
   "mimetype": "text/x-python",
   "name": "python",
   "nbconvert_exporter": "python",
   "pygments_lexer": "ipython3",
   "version": "3.12.4"
  }
 },
 "nbformat": 4,
 "nbformat_minor": 2
}
